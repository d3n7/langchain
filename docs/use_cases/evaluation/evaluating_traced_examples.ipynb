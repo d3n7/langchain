{
 "cells": [
  {
   "cell_type": "markdown",
   "id": "1a4596ea-a631-416d-a2a4-3577c140493d",
   "metadata": {},
   "source": [
    "# Running Chains on Traced Datasets\n",
    "\n",
    "Developing applications with language models can be uniquely challenging. To manage this complexity and ensure reliable performance, LangChain provides tracing and evaluation functionality through . This notebook demonstrates how to run Chains, which are language model functions, on previously captured datasets or traces. Some common use cases for this approach include:\n",
    "\n",
    "- Running an evaluation chain to grade previous runs.\n",
    "- Comparing different chains, LLMs, and agents on traced datasets.\n",
    "- Executing a stochastic chain multiple times over a dataset to generate metrics before deployment.\n",
    "\n",
    "Please note that this notebook assumes you have LangChain+ tracing running in the background. To set it up, follow the [tracing directions here](..\\/..\\/tracing\\/local_installation.md).\n"
   ]
  },
  {
   "cell_type": "code",
   "execution_count": 1,
   "id": "904db9a5-f387-4a57-914c-c8af8d39e249",
   "metadata": {
    "tags": []
   },
   "outputs": [],
   "source": [
    "from langchain.client import LangChainClient\n",
    "\n",
    "client = LangChainClient(\n",
    "    api_url=\"http://localhost:8000\",\n",
    "    api_key=None,\n",
    ")"
   ]
  },
  {
   "cell_type": "markdown",
   "id": "db79dea2-fbaa-4c12-9083-f6154b51e2d3",
   "metadata": {
    "tags": []
   },
   "source": [
    "## Seed an example dataset\n",
    "\n",
    "If you have been using LangChainPlus already, you may have datasets available. To view all saved datasets, run:\n",
    "\n",
    "```\n",
    "datasets = client.list_datasets()\n",
    "datasets\n",
    "```\n",
    "Datasets can be created in a number of ways, most often by collecting `Run`'s captured through the LangChain tracing API.\n",
    "\n",
    "However, this notebook assumes you're running locally for the first time, so we'll start by uploading an example evaluation dataset."
   ]
  },
  {
   "cell_type": "code",
   "execution_count": 2,
   "id": "1baa677c-5642-4378-8e01-3aa1647f19d6",
   "metadata": {
    "tags": []
   },
   "outputs": [],
   "source": [
    "# !pip install datasets > /dev/null\n",
    "# !pip install pandas > /dev/null"
   ]
  },
  {
   "cell_type": "code",
   "execution_count": 3,
   "id": "60d14593-c61f-449f-a38f-772ca43707c2",
   "metadata": {
    "tags": []
   },
   "outputs": [
    {
     "name": "stderr",
     "output_type": "stream",
     "text": [
      "Found cached dataset json (/Users/wfh/.cache/huggingface/datasets/LangChainDatasets___json/LangChainDatasets--agent-search-calculator-8a025c0ce5fb99d2/0.0.0/e347ab1c932092252e717ff3f949105a4dd28b27e842dd53157d2f72e276c2e4)\n"
     ]
    },
    {
     "data": {
      "application/vnd.jupyter.widget-view+json": {
       "model_id": "76dc2a0a3d3442d997569ad1b08a82d4",
       "version_major": 2,
       "version_minor": 0
      },
      "text/plain": [
       "  0%|          | 0/1 [00:00<?, ?it/s]"
      ]
     },
     "metadata": {},
     "output_type": "display_data"
    }
   ],
   "source": [
    "import pandas as pd\n",
    "from langchain.evaluation.loading import load_dataset\n",
    "\n",
    "dataset = load_dataset(\"agent-search-calculator\")\n",
    "df = pd.DataFrame(dataset, columns=[\"question\", \"answer\"])\n",
    "df.columns = [\"input\", \"output\"] # The chain we want to evaluate below expects inputs with the \"input\" key "
   ]
  },
  {
   "cell_type": "code",
   "execution_count": 4,
   "id": "6dfe2e58-41bf-4deb-8fe7-944ce0fa3548",
   "metadata": {},
   "outputs": [
    {
     "data": {
      "text/html": [
       "<div>\n",
       "<style scoped>\n",
       "    .dataframe tbody tr th:only-of-type {\n",
       "        vertical-align: middle;\n",
       "    }\n",
       "\n",
       "    .dataframe tbody tr th {\n",
       "        vertical-align: top;\n",
       "    }\n",
       "\n",
       "    .dataframe thead th {\n",
       "        text-align: right;\n",
       "    }\n",
       "</style>\n",
       "<table border=\"1\" class=\"dataframe\">\n",
       "  <thead>\n",
       "    <tr style=\"text-align: right;\">\n",
       "      <th></th>\n",
       "      <th>input</th>\n",
       "      <th>output</th>\n",
       "    </tr>\n",
       "  </thead>\n",
       "  <tbody>\n",
       "    <tr>\n",
       "      <th>0</th>\n",
       "      <td>How many people live in canada as of 2023?</td>\n",
       "      <td>approximately 38,625,801</td>\n",
       "    </tr>\n",
       "    <tr>\n",
       "      <th>1</th>\n",
       "      <td>who is dua lipa's boyfriend? what is his age r...</td>\n",
       "      <td>her boyfriend is Romain Gravas. his age raised...</td>\n",
       "    </tr>\n",
       "    <tr>\n",
       "      <th>2</th>\n",
       "      <td>what is dua lipa's boyfriend age raised to the...</td>\n",
       "      <td>her boyfriend is Romain Gravas. his age raised...</td>\n",
       "    </tr>\n",
       "    <tr>\n",
       "      <th>3</th>\n",
       "      <td>how far is it from paris to boston in miles</td>\n",
       "      <td>approximately 3,435 mi</td>\n",
       "    </tr>\n",
       "    <tr>\n",
       "      <th>4</th>\n",
       "      <td>what was the total number of points scored in ...</td>\n",
       "      <td>approximately 2.682651500990882</td>\n",
       "    </tr>\n",
       "  </tbody>\n",
       "</table>\n",
       "</div>"
      ],
      "text/plain": [
       "                                               input  \\\n",
       "0         How many people live in canada as of 2023?   \n",
       "1  who is dua lipa's boyfriend? what is his age r...   \n",
       "2  what is dua lipa's boyfriend age raised to the...   \n",
       "3        how far is it from paris to boston in miles   \n",
       "4  what was the total number of points scored in ...   \n",
       "\n",
       "                                              output  \n",
       "0                           approximately 38,625,801  \n",
       "1  her boyfriend is Romain Gravas. his age raised...  \n",
       "2  her boyfriend is Romain Gravas. his age raised...  \n",
       "3                             approximately 3,435 mi  \n",
       "4                    approximately 2.682651500990882  "
      ]
     },
     "execution_count": 4,
     "metadata": {},
     "output_type": "execute_result"
    }
   ],
   "source": [
    "df.head()"
   ]
  },
  {
   "cell_type": "code",
   "execution_count": 5,
   "id": "f27e45f1-e299-4de8-a538-ee1272ac5024",
   "metadata": {
    "tags": []
   },
   "outputs": [],
   "source": [
    "dataset_name = f\"calculator_example.csv\""
   ]
  },
  {
   "cell_type": "code",
   "execution_count": 6,
   "id": "52a7ea76-79ca-4765-abf7-231e884040d6",
   "metadata": {
    "tags": []
   },
   "outputs": [],
   "source": [
    "if dataset_name not in set([dataset.name for dataset in client.list_datasets()]):\n",
    "    dataset = client.upload_dataframe(df, \n",
    "                            name=dataset_name,\n",
    "                            description=\"Acalculator example dataset\",\n",
    "                            input_keys=[\"input\"],\n",
    "                            output_keys=[\"output\"],\n",
    "                   )"
   ]
  },
  {
   "cell_type": "markdown",
   "id": "07885b10",
   "metadata": {
    "tags": []
   },
   "source": [
    "## Running a Chain on a Traced Dataset\n",
    "\n",
    "Once you have a dataset, you can run a chain over it to see its results. The run traces will automatically be associated with the dataset for easy attribution and analysis.\n",
    "\n",
    "**First, we'll define the chain we wish to run over the dataset.**\n",
    "\n",
    "In this case, we're using an agent, but it can be any simple chain."
   ]
  },
  {
   "cell_type": "code",
   "execution_count": 7,
   "id": "c2b59104-b90e-466a-b7ea-c5bd0194263b",
   "metadata": {
    "tags": []
   },
   "outputs": [],
   "source": [
    "from langchain.chat_models import ChatOpenAI\n",
    "from langchain.agents import initialize_agent, load_tools\n",
    "from langchain.agents import AgentType\n",
    "\n",
    "llm = ChatOpenAI(temperature=0)\n",
    "tools = load_tools(['serpapi', 'llm-math'], llm=llm)\n",
    "agent = initialize_agent(tools, llm, agent=AgentType.ZERO_SHOT_REACT_DESCRIPTION, verbose=False)"
   ]
  },
  {
   "cell_type": "markdown",
   "id": "84094a4a-1d76-461c-bc37-8c537939b466",
   "metadata": {},
   "source": [
    "**Now we're ready to run the chain!**"
   ]
  },
  {
   "cell_type": "code",
   "execution_count": 8,
   "id": "a8088b7d-3ab6-4279-94c8-5116fe7cee33",
   "metadata": {
    "tags": []
   },
   "outputs": [
    {
     "name": "stderr",
     "output_type": "stream",
     "text": [
      "Chain failed for example d015179a-f4a7-40e1-ba2f-6ca90ed45fed. Error: unknown format from LLM: Assuming we don't have any information about the actual number of points scored in the 2023 super bowl, we cannot provide a mathematical expression to solve this problem.\n",
      "Chain failed for example d151c47c-fe80-4b58-8a28-5d5523d42b27. Error: 'age'. Please try again with a valid numerical expression\n",
      "Chain failed for example 0d63e5f0-83ce-49b2-826b-ced0ab4ca701. Error: invalid syntax. Perhaps you forgot a comma? (<expr>, line 1). Please try again with a valid numerical expression\n",
      "Chain failed for example 2dc584d8-dbe8-4146-8872-f92440f1048e. Error: 'VariableNode' object is not callable. Please try again with a valid numerical expression\n"
     ]
    }
   ],
   "source": [
    "chain_results = await client.arun_chain_on_dataset(\n",
    "    dataset_name=dataset_name,\n",
    "    chain=agent,\n",
    "    num_workers=5, # Optional, sets the number of examples to run at a time\n",
    "    session_name=\"Calculator Dataset Runs\", # Optional. Will be sent to the 'default' session otherwise\n",
    ")"
   ]
  },
  {
   "cell_type": "markdown",
   "id": "d2737458-b20c-4288-8790-1f4a8d237b2a",
   "metadata": {},
   "source": [
    "## Reviewing the Chain Results\n",
    "\n",
    "The method called above returns a dictionary mapping Example IDs to the output of the chain.\n",
    "You can directly inspect the results below."
   ]
  },
  {
   "cell_type": "code",
   "execution_count": 9,
   "id": "49bc839d-8320-446c-982a-391c55bc9e2a",
   "metadata": {
    "tags": []
   },
   "outputs": [
    {
     "data": {
      "text/plain": [
       "{'1781b1db-45cb-428f-8000-00482ccf7142': 'The distance between Paris and Boston is 3448 miles.',\n",
       " 'd015179a-f4a7-40e1-ba2f-6ca90ed45fed': {'Error': \"unknown format from LLM: Assuming we don't have any information about the actual number of points scored in the 2023 super bowl, we cannot provide a mathematical expression to solve this problem.\"},\n",
       " 'd151c47c-fe80-4b58-8a28-5d5523d42b27': {'Error': \"'age'. Please try again with a valid numerical expression\"},\n",
       " 'd437c17f-85b6-4d30-a4ff-8f2b7456ae43': 'The current population of Canada as of 2023 is 38,677,281.',\n",
       " 'a4d4ddbd-eb82-4300-9473-97715baf8f26': \"Anwar Hadid's age raised to the .43 power is approximately 2.68.\",\n",
       " '0d63e5f0-83ce-49b2-826b-ced0ab4ca701': {'Error': 'invalid syntax. Perhaps you forgot a comma? (<expr>, line 1). Please try again with a valid numerical expression'},\n",
       " '7702d8f5-96d1-46ad-9919-cb40efed224c': '1.9347796717823205',\n",
       " 'dcf59228-f3d4-4359-83d4-9032ec00a950': '0',\n",
       " 'd93f5863-cdb1-4529-ae33-71013c8e5854': \"Devin Booker is Kendall Jenner's boyfriend and his height (in inches) raised to .13 power is approximately 1.7589.\",\n",
       " '2dc584d8-dbe8-4146-8872-f92440f1048e': {'Error': \"'VariableNode' object is not callable. Please try again with a valid numerical expression\"}}"
      ]
     },
     "execution_count": 9,
     "metadata": {},
     "output_type": "execute_result"
    }
   ],
   "source": [
    "chain_results"
   ]
  },
  {
   "cell_type": "code",
   "execution_count": 10,
   "id": "136db492-d6ca-4215-96f9-439c23538241",
   "metadata": {
    "tags": []
   },
   "outputs": [
    {
     "data": {
      "text/html": [
       "<a href=\"http://localhost\", target=\"_blank\" rel=\"noopener\">LangChain+ Client</a>"
      ],
      "text/plain": [
       "LangChainClient (API URL: http://localhost:8000)"
      ]
     },
     "execution_count": 10,
     "metadata": {},
     "output_type": "execute_result"
    }
   ],
   "source": [
    "# You can navigate to the UI by clicking on the link below\n",
    "client"
   ]
  },
  {
   "cell_type": "code",
   "execution_count": 11,
   "id": "b05f1aab-6bc9-4963-9059-c5cd9c656992",
   "metadata": {},
   "outputs": [],
   "source": [
    "# You can review all the chain runs over a given example as follows:\n",
    "example_id = next(iter(chain_results))\n",
    "example = client.read_example(example_id)"
   ]
  },
  {
   "cell_type": "code",
   "execution_count": 12,
   "id": "d28b7752-7abb-4b4d-8575-1e98d6baf1b1",
   "metadata": {
    "tags": []
   },
   "outputs": [
    {
     "data": {
      "text/plain": [
       "[{'child_runs': [{'child_runs': [{'start_time': '2023-05-04T01:40:58.004292',\n",
       "      'end_time': '2023-05-04T01:41:00.124338',\n",
       "      'extra': {},\n",
       "      'execution_order': 3,\n",
       "      'serialized': {'name': 'ChatOpenAI'},\n",
       "      'session_id': 2,\n",
       "      'example_id': '1781b1db-45cb-428f-8000-00482ccf7142',\n",
       "      'error': None,\n",
       "      'parent_chain_run_id': 2,\n",
       "      'parent_tool_run_id': None,\n",
       "      'prompts': ['Human: Answer the following questions as best you can. You have access to the following tools:\\n\\nSearch: A search engine. Useful for when you need to answer questions about current events. Input should be a search query.\\nCalculator: Useful for when you need to answer questions about math.\\n\\nUse the following format:\\n\\nQuestion: the input question you must answer\\nThought: you should always think about what to do\\nAction: the action to take, should be one of [Search, Calculator]\\nAction Input: the input to the action\\nObservation: the result of the action\\n... (this Thought/Action/Action Input/Observation can repeat N times)\\nThought: I now know the final answer\\nFinal Answer: the final answer to the original input question\\n\\nBegin!\\n\\nQuestion: how far is it from paris to boston in miles\\nThought:'],\n",
       "      'response': {'generations': [[{'text': 'I need to find the distance between Paris and Boston\\nAction: Search\\nAction Input: \"distance between Paris and Boston in miles\"'}]],\n",
       "       'llm_output': {'token_usage': {'prompt_tokens': 178,\n",
       "         'completion_tokens': 27,\n",
       "         'total_tokens': 205},\n",
       "        'model_name': 'gpt-3.5-turbo'}},\n",
       "      'id': 1,\n",
       "      'type': 'llm'}],\n",
       "    'start_time': '2023-05-04T01:40:58.003567',\n",
       "    'end_time': '2023-05-04T01:41:00.124705',\n",
       "    'extra': {},\n",
       "    'execution_order': 2,\n",
       "    'serialized': {'name': 'LLMChain'},\n",
       "    'session_id': 2,\n",
       "    'example_id': '1781b1db-45cb-428f-8000-00482ccf7142',\n",
       "    'error': None,\n",
       "    'parent_chain_run_id': 1,\n",
       "    'parent_tool_run_id': None,\n",
       "    'inputs': {'input': 'how far is it from paris to boston in miles',\n",
       "     'agent_scratchpad': '',\n",
       "     'stop': ['\\nObservation:', '\\n\\tObservation:']},\n",
       "    'outputs': {'text': 'I need to find the distance between Paris and Boston\\nAction: Search\\nAction Input: \"distance between Paris and Boston in miles\"'},\n",
       "    'id': 2,\n",
       "    'type': 'chain'},\n",
       "   {'child_runs': [],\n",
       "    'start_time': '2023-05-04T01:41:00.125929',\n",
       "    'end_time': '2023-05-04T01:41:00.228395',\n",
       "    'extra': {'color': 'green',\n",
       "     'llm_prefix': 'Thought:',\n",
       "     'observation_prefix': 'Observation: '},\n",
       "    'execution_order': 4,\n",
       "    'serialized': {'name': 'Search',\n",
       "     'description': 'A search engine. Useful for when you need to answer questions about current events. Input should be a search query.'},\n",
       "    'session_id': 2,\n",
       "    'example_id': None,\n",
       "    'error': None,\n",
       "    'parent_chain_run_id': 1,\n",
       "    'parent_tool_run_id': None,\n",
       "    'tool_input': 'distance between Paris and Boston in miles',\n",
       "    'output': 'The distance between Paris (Paris Charles de Gaulle Airport) and Boston (Logan International Airport) is 3448 miles / 5550 kilometers / 2997 nautical miles.',\n",
       "    'action': \"{'name': 'Search', 'description': 'A search engine. Useful for when you need to answer questions about current events. Input should be a search query.'}\",\n",
       "    'id': 1,\n",
       "    'type': 'tool'},\n",
       "   {'child_runs': [{'start_time': '2023-05-04T01:41:00.229748',\n",
       "      'end_time': '2023-05-04T01:41:01.915701',\n",
       "      'extra': {},\n",
       "      'execution_order': 6,\n",
       "      'serialized': {'name': 'ChatOpenAI'},\n",
       "      'session_id': 2,\n",
       "      'example_id': '1781b1db-45cb-428f-8000-00482ccf7142',\n",
       "      'error': None,\n",
       "      'parent_chain_run_id': 3,\n",
       "      'parent_tool_run_id': None,\n",
       "      'prompts': ['Human: Answer the following questions as best you can. You have access to the following tools:\\n\\nSearch: A search engine. Useful for when you need to answer questions about current events. Input should be a search query.\\nCalculator: Useful for when you need to answer questions about math.\\n\\nUse the following format:\\n\\nQuestion: the input question you must answer\\nThought: you should always think about what to do\\nAction: the action to take, should be one of [Search, Calculator]\\nAction Input: the input to the action\\nObservation: the result of the action\\n... (this Thought/Action/Action Input/Observation can repeat N times)\\nThought: I now know the final answer\\nFinal Answer: the final answer to the original input question\\n\\nBegin!\\n\\nQuestion: how far is it from paris to boston in miles\\nThought:I need to find the distance between Paris and Boston\\nAction: Search\\nAction Input: \"distance between Paris and Boston in miles\"\\nObservation: The distance between Paris (Paris Charles de Gaulle Airport) and Boston (Logan International Airport) is 3448 miles / 5550 kilometers / 2997 nautical miles.\\nThought:'],\n",
       "      'response': {'generations': [[{'text': 'I have the answer to the question\\nFinal Answer: The distance between Paris and Boston is 3448 miles.'}]],\n",
       "       'llm_output': {'token_usage': {'prompt_tokens': 247,\n",
       "         'completion_tokens': 23,\n",
       "         'total_tokens': 270},\n",
       "        'model_name': 'gpt-3.5-turbo'}},\n",
       "      'id': 2,\n",
       "      'type': 'llm'}],\n",
       "    'start_time': '2023-05-04T01:41:00.229351',\n",
       "    'end_time': '2023-05-04T01:41:01.916173',\n",
       "    'extra': {},\n",
       "    'execution_order': 5,\n",
       "    'serialized': {'name': 'LLMChain'},\n",
       "    'session_id': 2,\n",
       "    'example_id': '1781b1db-45cb-428f-8000-00482ccf7142',\n",
       "    'error': None,\n",
       "    'parent_chain_run_id': 1,\n",
       "    'parent_tool_run_id': None,\n",
       "    'inputs': {'input': 'how far is it from paris to boston in miles',\n",
       "     'agent_scratchpad': 'I need to find the distance between Paris and Boston\\nAction: Search\\nAction Input: \"distance between Paris and Boston in miles\"\\nObservation: The distance between Paris (Paris Charles de Gaulle Airport) and Boston (Logan International Airport) is 3448 miles / 5550 kilometers / 2997 nautical miles.\\nThought:',\n",
       "     'stop': ['\\nObservation:', '\\n\\tObservation:']},\n",
       "    'outputs': {'text': 'I have the answer to the question\\nFinal Answer: The distance between Paris and Boston is 3448 miles.'},\n",
       "    'id': 3,\n",
       "    'type': 'chain'}],\n",
       "  'start_time': '2023-05-04T01:40:58.002934',\n",
       "  'end_time': '2023-05-04T01:41:01.917236',\n",
       "  'extra': {},\n",
       "  'execution_order': 1,\n",
       "  'serialized': {'name': 'AgentExecutor'},\n",
       "  'session_id': 2,\n",
       "  'example_id': '1781b1db-45cb-428f-8000-00482ccf7142',\n",
       "  'error': None,\n",
       "  'parent_chain_run_id': None,\n",
       "  'parent_tool_run_id': None,\n",
       "  'inputs': {'input': 'how far is it from paris to boston in miles'},\n",
       "  'outputs': {'output': 'The distance between Paris and Boston is 3448 miles.'},\n",
       "  'id': 1,\n",
       "  'type': 'chain'},\n",
       " {'child_runs': [{'start_time': '2023-05-04T01:40:58.004292',\n",
       "    'end_time': '2023-05-04T01:41:00.124338',\n",
       "    'extra': {},\n",
       "    'execution_order': 3,\n",
       "    'serialized': {'name': 'ChatOpenAI'},\n",
       "    'session_id': 2,\n",
       "    'example_id': '1781b1db-45cb-428f-8000-00482ccf7142',\n",
       "    'error': None,\n",
       "    'parent_chain_run_id': 2,\n",
       "    'parent_tool_run_id': None,\n",
       "    'prompts': ['Human: Answer the following questions as best you can. You have access to the following tools:\\n\\nSearch: A search engine. Useful for when you need to answer questions about current events. Input should be a search query.\\nCalculator: Useful for when you need to answer questions about math.\\n\\nUse the following format:\\n\\nQuestion: the input question you must answer\\nThought: you should always think about what to do\\nAction: the action to take, should be one of [Search, Calculator]\\nAction Input: the input to the action\\nObservation: the result of the action\\n... (this Thought/Action/Action Input/Observation can repeat N times)\\nThought: I now know the final answer\\nFinal Answer: the final answer to the original input question\\n\\nBegin!\\n\\nQuestion: how far is it from paris to boston in miles\\nThought:'],\n",
       "    'response': {'generations': [[{'text': 'I need to find the distance between Paris and Boston\\nAction: Search\\nAction Input: \"distance between Paris and Boston in miles\"'}]],\n",
       "     'llm_output': {'token_usage': {'prompt_tokens': 178,\n",
       "       'completion_tokens': 27,\n",
       "       'total_tokens': 205},\n",
       "      'model_name': 'gpt-3.5-turbo'}},\n",
       "    'id': 1,\n",
       "    'type': 'llm'}],\n",
       "  'start_time': '2023-05-04T01:40:58.003567',\n",
       "  'end_time': '2023-05-04T01:41:00.124705',\n",
       "  'extra': {},\n",
       "  'execution_order': 2,\n",
       "  'serialized': {'name': 'LLMChain'},\n",
       "  'session_id': 2,\n",
       "  'example_id': '1781b1db-45cb-428f-8000-00482ccf7142',\n",
       "  'error': None,\n",
       "  'parent_chain_run_id': 1,\n",
       "  'parent_tool_run_id': None,\n",
       "  'inputs': {'input': 'how far is it from paris to boston in miles',\n",
       "   'agent_scratchpad': '',\n",
       "   'stop': ['\\nObservation:', '\\n\\tObservation:']},\n",
       "  'outputs': {'text': 'I need to find the distance between Paris and Boston\\nAction: Search\\nAction Input: \"distance between Paris and Boston in miles\"'},\n",
       "  'id': 2,\n",
       "  'type': 'chain'},\n",
       " {'child_runs': [{'start_time': '2023-05-04T01:41:00.229748',\n",
       "    'end_time': '2023-05-04T01:41:01.915701',\n",
       "    'extra': {},\n",
       "    'execution_order': 6,\n",
       "    'serialized': {'name': 'ChatOpenAI'},\n",
       "    'session_id': 2,\n",
       "    'example_id': '1781b1db-45cb-428f-8000-00482ccf7142',\n",
       "    'error': None,\n",
       "    'parent_chain_run_id': 3,\n",
       "    'parent_tool_run_id': None,\n",
       "    'prompts': ['Human: Answer the following questions as best you can. You have access to the following tools:\\n\\nSearch: A search engine. Useful for when you need to answer questions about current events. Input should be a search query.\\nCalculator: Useful for when you need to answer questions about math.\\n\\nUse the following format:\\n\\nQuestion: the input question you must answer\\nThought: you should always think about what to do\\nAction: the action to take, should be one of [Search, Calculator]\\nAction Input: the input to the action\\nObservation: the result of the action\\n... (this Thought/Action/Action Input/Observation can repeat N times)\\nThought: I now know the final answer\\nFinal Answer: the final answer to the original input question\\n\\nBegin!\\n\\nQuestion: how far is it from paris to boston in miles\\nThought:I need to find the distance between Paris and Boston\\nAction: Search\\nAction Input: \"distance between Paris and Boston in miles\"\\nObservation: The distance between Paris (Paris Charles de Gaulle Airport) and Boston (Logan International Airport) is 3448 miles / 5550 kilometers / 2997 nautical miles.\\nThought:'],\n",
       "    'response': {'generations': [[{'text': 'I have the answer to the question\\nFinal Answer: The distance between Paris and Boston is 3448 miles.'}]],\n",
       "     'llm_output': {'token_usage': {'prompt_tokens': 247,\n",
       "       'completion_tokens': 23,\n",
       "       'total_tokens': 270},\n",
       "      'model_name': 'gpt-3.5-turbo'}},\n",
       "    'id': 2,\n",
       "    'type': 'llm'}],\n",
       "  'start_time': '2023-05-04T01:41:00.229351',\n",
       "  'end_time': '2023-05-04T01:41:01.916173',\n",
       "  'extra': {},\n",
       "  'execution_order': 5,\n",
       "  'serialized': {'name': 'LLMChain'},\n",
       "  'session_id': 2,\n",
       "  'example_id': '1781b1db-45cb-428f-8000-00482ccf7142',\n",
       "  'error': None,\n",
       "  'parent_chain_run_id': 1,\n",
       "  'parent_tool_run_id': None,\n",
       "  'inputs': {'input': 'how far is it from paris to boston in miles',\n",
       "   'agent_scratchpad': 'I need to find the distance between Paris and Boston\\nAction: Search\\nAction Input: \"distance between Paris and Boston in miles\"\\nObservation: The distance between Paris (Paris Charles de Gaulle Airport) and Boston (Logan International Airport) is 3448 miles / 5550 kilometers / 2997 nautical miles.\\nThought:',\n",
       "   'stop': ['\\nObservation:', '\\n\\tObservation:']},\n",
       "  'outputs': {'text': 'I have the answer to the question\\nFinal Answer: The distance between Paris and Boston is 3448 miles.'},\n",
       "  'id': 3,\n",
       "  'type': 'chain'}]"
      ]
     },
     "execution_count": 12,
     "metadata": {},
     "output_type": "execute_result"
    }
   ],
   "source": [
    "# For example, view the chain runs on this example\n",
    "example.chain_runs"
   ]
  }
 ],
 "metadata": {
  "kernelspec": {
   "display_name": "Python 3 (ipykernel)",
   "language": "python",
   "name": "python3"
  },
  "language_info": {
   "codemirror_mode": {
    "name": "ipython",
    "version": 3
   },
   "file_extension": ".py",
   "mimetype": "text/x-python",
   "name": "python",
   "nbconvert_exporter": "python",
   "pygments_lexer": "ipython3",
   "version": "3.11.2"
  }
 },
 "nbformat": 4,
 "nbformat_minor": 5
}
